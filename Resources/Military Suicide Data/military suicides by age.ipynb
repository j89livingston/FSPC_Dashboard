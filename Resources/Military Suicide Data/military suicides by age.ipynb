{
 "cells": [
  {
   "cell_type": "markdown",
   "metadata": {},
   "source": [
    "## Military Suicides by Age"
   ]
  },
  {
   "cell_type": "code",
   "execution_count": 1,
   "metadata": {},
   "outputs": [],
   "source": [
    "#Import dependencies\n",
    "import pandas as pd\n",
    "import numpy as np"
   ]
  },
  {
   "cell_type": "code",
   "execution_count": 2,
   "metadata": {},
   "outputs": [
    {
     "data": {
      "text/html": [
       "<div>\n",
       "<style scoped>\n",
       "    .dataframe tbody tr th:only-of-type {\n",
       "        vertical-align: middle;\n",
       "    }\n",
       "\n",
       "    .dataframe tbody tr th {\n",
       "        vertical-align: top;\n",
       "    }\n",
       "\n",
       "    .dataframe thead th {\n",
       "        text-align: right;\n",
       "    }\n",
       "</style>\n",
       "<table border=\"1\" class=\"dataframe\">\n",
       "  <thead>\n",
       "    <tr style=\"text-align: right;\">\n",
       "      <th></th>\n",
       "      <th>Veteran and General Adult Population (Veteran and Non-Veteran) Suicides by State of Death and Age Group, 2005–2018</th>\n",
       "      <th>Unnamed: 1</th>\n",
       "      <th>Unnamed: 2</th>\n",
       "      <th>Unnamed: 3</th>\n",
       "      <th>Unnamed: 4</th>\n",
       "      <th>Unnamed: 5</th>\n",
       "      <th>Unnamed: 6</th>\n",
       "      <th>Unnamed: 7</th>\n",
       "    </tr>\n",
       "  </thead>\n",
       "  <tbody>\n",
       "    <tr>\n",
       "      <th>0</th>\n",
       "      <td>NaN</td>\n",
       "      <td>NaN</td>\n",
       "      <td>NaN</td>\n",
       "      <td>NaN</td>\n",
       "      <td>NaN</td>\n",
       "      <td>NaN</td>\n",
       "      <td>NaN</td>\n",
       "      <td>NaN</td>\n",
       "    </tr>\n",
       "    <tr>\n",
       "      <th>1</th>\n",
       "      <td>Year</td>\n",
       "      <td>Geographic Region, Based on State of Death</td>\n",
       "      <td>State of Death</td>\n",
       "      <td>Age\\nGroup</td>\n",
       "      <td>Veteran\\nSuicides</td>\n",
       "      <td>Veteran\\nSuicide\\nRate\\nper\\n100,000</td>\n",
       "      <td>General\\nAdult Population\\nSuicides</td>\n",
       "      <td>General\\nAdult Population\\nSuicide Rate per 10...</td>\n",
       "    </tr>\n",
       "    <tr>\n",
       "      <th>2</th>\n",
       "      <td>2005</td>\n",
       "      <td></td>\n",
       "      <td>Total U.S.</td>\n",
       "      <td>Total</td>\n",
       "      <td>6,056</td>\n",
       "      <td>24.7</td>\n",
       "      <td>31,610</td>\n",
       "      <td>14.7</td>\n",
       "    </tr>\n",
       "    <tr>\n",
       "      <th>3</th>\n",
       "      <td>2005</td>\n",
       "      <td></td>\n",
       "      <td>Total U.S.</td>\n",
       "      <td>18–34</td>\n",
       "      <td>574</td>\n",
       "      <td>25.5</td>\n",
       "      <td>8,455</td>\n",
       "      <td>13.1</td>\n",
       "    </tr>\n",
       "    <tr>\n",
       "      <th>4</th>\n",
       "      <td>2005</td>\n",
       "      <td></td>\n",
       "      <td>Total U.S.</td>\n",
       "      <td>35–54</td>\n",
       "      <td>2,122</td>\n",
       "      <td>28.1</td>\n",
       "      <td>13,541</td>\n",
       "      <td>15.9</td>\n",
       "    </tr>\n",
       "  </tbody>\n",
       "</table>\n",
       "</div>"
      ],
      "text/plain": [
       "  Veteran and General Adult Population (Veteran and Non-Veteran) Suicides by State of Death and Age Group, 2005–2018  \\\n",
       "0                                                NaN                                                                   \n",
       "1                                               Year                                                                   \n",
       "2                                               2005                                                                   \n",
       "3                                               2005                                                                   \n",
       "4                                               2005                                                                   \n",
       "\n",
       "                                   Unnamed: 1      Unnamed: 2  Unnamed: 3  \\\n",
       "0                                         NaN             NaN         NaN   \n",
       "1  Geographic Region, Based on State of Death  State of Death  Age\\nGroup   \n",
       "2                                                  Total U.S.       Total   \n",
       "3                                                  Total U.S.       18–34   \n",
       "4                                                  Total U.S.       35–54   \n",
       "\n",
       "            Unnamed: 4                            Unnamed: 5  \\\n",
       "0                  NaN                                   NaN   \n",
       "1   Veteran\\nSuicides   Veteran\\nSuicide\\nRate\\nper\\n100,000   \n",
       "2                6,056                                  24.7   \n",
       "3                  574                                  25.5   \n",
       "4                2,122                                  28.1   \n",
       "\n",
       "                              Unnamed: 6  \\\n",
       "0                                    NaN   \n",
       "1   General\\nAdult Population\\nSuicides    \n",
       "2                                 31,610   \n",
       "3                                  8,455   \n",
       "4                                 13,541   \n",
       "\n",
       "                                          Unnamed: 7  \n",
       "0                                                NaN  \n",
       "1  General\\nAdult Population\\nSuicide Rate per 10...  \n",
       "2                                               14.7  \n",
       "3                                               13.1  \n",
       "4                                               15.9  "
      ]
     },
     "execution_count": 2,
     "metadata": {},
     "output_type": "execute_result"
    }
   ],
   "source": [
    "#Import data\n",
    "data = \"military suicides by age.csv\" \n",
    "age_df = pd.read_csv(data)\n",
    "\n",
    "#Check data\n",
    "age_df.head()"
   ]
  },
  {
   "cell_type": "code",
   "execution_count": 3,
   "metadata": {},
   "outputs": [
    {
     "data": {
      "text/plain": [
       "Veteran and General Adult Population (Veteran and Non-Veteran) Suicides by State of Death and Age Group, 2005–2018    1\n",
       "Unnamed: 1                                                                                                            1\n",
       "Unnamed: 2                                                                                                            1\n",
       "Unnamed: 3                                                                                                            1\n",
       "Unnamed: 4                                                                                                            1\n",
       "Unnamed: 5                                                                                                            1\n",
       "Unnamed: 6                                                                                                            1\n",
       "Unnamed: 7                                                                                                            1\n",
       "dtype: int64"
      ]
     },
     "execution_count": 3,
     "metadata": {},
     "output_type": "execute_result"
    }
   ],
   "source": [
    "#Search for NAN Data\n",
    "age_df.isnull().sum()"
   ]
  },
  {
   "cell_type": "code",
   "execution_count": null,
   "metadata": {},
   "outputs": [],
   "source": []
  }
 ],
 "metadata": {
  "kernelspec": {
   "display_name": "PythonData",
   "language": "python",
   "name": "pythondata"
  },
  "language_info": {
   "codemirror_mode": {
    "name": "ipython",
    "version": 3
   },
   "file_extension": ".py",
   "mimetype": "text/x-python",
   "name": "python",
   "nbconvert_exporter": "python",
   "pygments_lexer": "ipython3",
   "version": "3.7.9"
  }
 },
 "nbformat": 4,
 "nbformat_minor": 5
}

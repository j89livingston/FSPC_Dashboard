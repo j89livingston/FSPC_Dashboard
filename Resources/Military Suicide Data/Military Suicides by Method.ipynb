{
 "cells": [
  {
   "cell_type": "markdown",
   "id": "f66c7785",
   "metadata": {},
   "source": [
    "## Military Suicides by Method"
   ]
  },
  {
   "cell_type": "code",
   "execution_count": 1,
   "id": "d5c9a164",
   "metadata": {},
   "outputs": [],
   "source": [
    "#Import dependencies\n",
    "import pandas as pd\n",
    "import numpy as np"
   ]
  },
  {
   "cell_type": "code",
   "execution_count": 22,
   "id": "b88f1818",
   "metadata": {},
   "outputs": [
    {
     "data": {
      "text/html": [
       "<div>\n",
       "<style scoped>\n",
       "    .dataframe tbody tr th:only-of-type {\n",
       "        vertical-align: middle;\n",
       "    }\n",
       "\n",
       "    .dataframe tbody tr th {\n",
       "        vertical-align: top;\n",
       "    }\n",
       "\n",
       "    .dataframe thead th {\n",
       "        text-align: right;\n",
       "    }\n",
       "</style>\n",
       "<table border=\"1\" class=\"dataframe\">\n",
       "  <thead>\n",
       "    <tr style=\"text-align: right;\">\n",
       "      <th></th>\n",
       "      <th>Veteran and Adult General Population (Veteran and Non-Veteran) Suicides by State of Death and Method, 2005�2018</th>\n",
       "      <th>Unnamed: 1</th>\n",
       "      <th>Unnamed: 2</th>\n",
       "      <th>Unnamed: 3</th>\n",
       "      <th>Unnamed: 4</th>\n",
       "      <th>Unnamed: 5</th>\n",
       "      <th>Unnamed: 6</th>\n",
       "    </tr>\n",
       "  </thead>\n",
       "  <tbody>\n",
       "    <tr>\n",
       "      <th>0</th>\n",
       "      <td>NaN</td>\n",
       "      <td>NaN</td>\n",
       "      <td>NaN</td>\n",
       "      <td>NaN</td>\n",
       "      <td>NaN</td>\n",
       "      <td>NaN</td>\n",
       "      <td>NaN</td>\n",
       "    </tr>\n",
       "    <tr>\n",
       "      <th>1</th>\n",
       "      <td>Year</td>\n",
       "      <td>Geographic\\r\\nRegion</td>\n",
       "      <td>State of Death</td>\n",
       "      <td>Group Method</td>\n",
       "      <td>Method</td>\n",
       "      <td>Suicides</td>\n",
       "      <td>Group\\r\\nPercentage</td>\n",
       "    </tr>\n",
       "    <tr>\n",
       "      <th>2</th>\n",
       "      <td>2005</td>\n",
       "      <td></td>\n",
       "      <td>Total U.S.</td>\n",
       "      <td>Veteran Method</td>\n",
       "      <td>Suffocation</td>\n",
       "      <td>829</td>\n",
       "      <td>13.7</td>\n",
       "    </tr>\n",
       "    <tr>\n",
       "      <th>3</th>\n",
       "      <td>2005</td>\n",
       "      <td></td>\n",
       "      <td>Total U.S.</td>\n",
       "      <td>Veteran Method</td>\n",
       "      <td>Poisoning</td>\n",
       "      <td>793</td>\n",
       "      <td>13.1</td>\n",
       "    </tr>\n",
       "    <tr>\n",
       "      <th>4</th>\n",
       "      <td>2005</td>\n",
       "      <td></td>\n",
       "      <td>Total U.S.</td>\n",
       "      <td>Veteran Method</td>\n",
       "      <td>Firearms</td>\n",
       "      <td>4,099</td>\n",
       "      <td>67.7</td>\n",
       "    </tr>\n",
       "  </tbody>\n",
       "</table>\n",
       "</div>"
      ],
      "text/plain": [
       "  Veteran and Adult General Population (Veteran and Non-Veteran) Suicides by State of Death and Method, 2005�2018  \\\n",
       "0                                                NaN                                                                \n",
       "1                                               Year                                                                \n",
       "2                                               2005                                                                \n",
       "3                                               2005                                                                \n",
       "4                                               2005                                                                \n",
       "\n",
       "             Unnamed: 1      Unnamed: 2      Unnamed: 3   Unnamed: 4  \\\n",
       "0                   NaN             NaN             NaN          NaN   \n",
       "1  Geographic\\r\\nRegion  State of Death    Group Method       Method   \n",
       "2                            Total U.S.  Veteran Method  Suffocation   \n",
       "3                            Total U.S.  Veteran Method    Poisoning   \n",
       "4                            Total U.S.  Veteran Method     Firearms   \n",
       "\n",
       "  Unnamed: 5           Unnamed: 6  \n",
       "0        NaN                  NaN  \n",
       "1   Suicides  Group\\r\\nPercentage  \n",
       "2        829                 13.7  \n",
       "3        793                 13.1  \n",
       "4      4,099                 67.7  "
      ]
     },
     "execution_count": 22,
     "metadata": {},
     "output_type": "execute_result"
    }
   ],
   "source": [
    "#Import data\n",
    "data = \"military suicides by method.csv\"\n",
    "method_df = pd.read_csv(data)\n",
    "\n",
    "#Check data\n",
    "method_df.head()"
   ]
  },
  {
   "cell_type": "code",
   "execution_count": 20,
   "id": "ff5161f9",
   "metadata": {},
   "outputs": [
    {
     "data": {
      "text/plain": [
       "Veteran and Adult General Population (Veteran and Non-Veteran) Suicides by State of Death and Method, 2005�2018    1\n",
       "Unnamed: 1                                                                                                         1\n",
       "Unnamed: 2                                                                                                         1\n",
       "Unnamed: 3                                                                                                         1\n",
       "Unnamed: 4                                                                                                         1\n",
       "Unnamed: 5                                                                                                         1\n",
       "Unnamed: 6                                                                                                         1\n",
       "dtype: int64"
      ]
     },
     "execution_count": 20,
     "metadata": {},
     "output_type": "execute_result"
    }
   ],
   "source": [
    "#Search for NAN Data\n",
    "method_df.isnull().sum()"
   ]
  },
  {
   "cell_type": "code",
   "execution_count": null,
   "id": "adbf37a3",
   "metadata": {},
   "outputs": [],
   "source": []
  }
 ],
 "metadata": {
  "kernelspec": {
   "display_name": "PythonData",
   "language": "python",
   "name": "pythondata"
  },
  "language_info": {
   "codemirror_mode": {
    "name": "ipython",
    "version": 3
   },
   "file_extension": ".py",
   "mimetype": "text/x-python",
   "name": "python",
   "nbconvert_exporter": "python",
   "pygments_lexer": "ipython3",
   "version": "3.7.9"
  }
 },
 "nbformat": 4,
 "nbformat_minor": 5
}

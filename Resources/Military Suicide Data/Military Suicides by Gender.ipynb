{
 "cells": [
  {
   "cell_type": "markdown",
   "metadata": {},
   "source": [
    "## Military Suicides by Method"
   ]
  },
  {
   "cell_type": "code",
   "execution_count": 1,
   "metadata": {},
   "outputs": [],
   "source": [
    "#Import dependencies\n",
    "import pandas as pd\n",
    "import numpy as np"
   ]
  },
  {
   "cell_type": "code",
   "execution_count": 2,
   "metadata": {},
   "outputs": [
    {
     "data": {
      "text/html": [
       "<div>\n",
       "<style scoped>\n",
       "    .dataframe tbody tr th:only-of-type {\n",
       "        vertical-align: middle;\n",
       "    }\n",
       "\n",
       "    .dataframe tbody tr th {\n",
       "        vertical-align: top;\n",
       "    }\n",
       "\n",
       "    .dataframe thead th {\n",
       "        text-align: right;\n",
       "    }\n",
       "</style>\n",
       "<table border=\"1\" class=\"dataframe\">\n",
       "  <thead>\n",
       "    <tr style=\"text-align: right;\">\n",
       "      <th></th>\n",
       "      <th>Veteran Suicides by State of Death and by Sex, 2005–2018</th>\n",
       "      <th>Unnamed: 1</th>\n",
       "      <th>Unnamed: 2</th>\n",
       "      <th>Unnamed: 3</th>\n",
       "      <th>Unnamed: 4</th>\n",
       "    </tr>\n",
       "  </thead>\n",
       "  <tbody>\n",
       "    <tr>\n",
       "      <th>0</th>\n",
       "      <td>NaN</td>\n",
       "      <td>NaN</td>\n",
       "      <td>NaN</td>\n",
       "      <td>NaN</td>\n",
       "      <td>NaN</td>\n",
       "    </tr>\n",
       "    <tr>\n",
       "      <th>1</th>\n",
       "      <td>Year</td>\n",
       "      <td>Geographic\\nRegion</td>\n",
       "      <td>State of Death</td>\n",
       "      <td>Sex</td>\n",
       "      <td>Veteran\\nSuicides</td>\n",
       "    </tr>\n",
       "    <tr>\n",
       "      <th>2</th>\n",
       "      <td>2005</td>\n",
       "      <td></td>\n",
       "      <td>Total U.S.</td>\n",
       "      <td>Total</td>\n",
       "      <td>6,056</td>\n",
       "    </tr>\n",
       "    <tr>\n",
       "      <th>3</th>\n",
       "      <td>2005</td>\n",
       "      <td></td>\n",
       "      <td>Total U.S.</td>\n",
       "      <td>Male</td>\n",
       "      <td>5,870</td>\n",
       "    </tr>\n",
       "    <tr>\n",
       "      <th>4</th>\n",
       "      <td>2005</td>\n",
       "      <td></td>\n",
       "      <td>Total U.S.</td>\n",
       "      <td>Female</td>\n",
       "      <td>186</td>\n",
       "    </tr>\n",
       "  </tbody>\n",
       "</table>\n",
       "</div>"
      ],
      "text/plain": [
       "  Veteran Suicides by State of Death and by Sex, 2005–2018  \\\n",
       "0                                                NaN         \n",
       "1                                               Year         \n",
       "2                                               2005         \n",
       "3                                               2005         \n",
       "4                                               2005         \n",
       "\n",
       "           Unnamed: 1      Unnamed: 2 Unnamed: 3           Unnamed: 4  \n",
       "0                 NaN             NaN        NaN                  NaN  \n",
       "1  Geographic\\nRegion  State of Death        Sex   Veteran\\nSuicides   \n",
       "2                          Total U.S.      Total                6,056  \n",
       "3                          Total U.S.       Male                5,870  \n",
       "4                          Total U.S.     Female                  186  "
      ]
     },
     "execution_count": 2,
     "metadata": {},
     "output_type": "execute_result"
    }
   ],
   "source": [
    "#Import data\n",
    "data = \"military suicides by gender.csv\"\n",
    "gender_df = pd.read_csv(data)\n",
    "\n",
    "#Check data\n",
    "gender_df.head()"
   ]
  },
  {
   "cell_type": "code",
   "execution_count": 3,
   "metadata": {},
   "outputs": [],
   "source": [
    "#Clean up columns\n",
    "#Remove unneccassary columns\n",
    "#military_df.drop([\"Unnamed: 6\", \"Unnamed: 7\", \"Unnamed: 8\"],axis=1)\n",
    "#military_df.head()\n",
    "\n",
    "#Rename columns\n",
    "#new_military_df= military_df.rename(columns={\"year, geographic region, state of death, sex, veteran suicides\"})\n",
    "#new_military_df.head()\n"
   ]
  },
  {
   "cell_type": "code",
   "execution_count": 4,
   "metadata": {},
   "outputs": [
    {
     "data": {
      "text/plain": [
       "Veteran Suicides by State of Death and by Sex, 2005–2018    1\n",
       "Unnamed: 1                                                  1\n",
       "Unnamed: 2                                                  1\n",
       "Unnamed: 3                                                  1\n",
       "Unnamed: 4                                                  1\n",
       "dtype: int64"
      ]
     },
     "execution_count": 4,
     "metadata": {},
     "output_type": "execute_result"
    }
   ],
   "source": [
    "#Search for NAN Data\n",
    "gender_df.isnull().sum()"
   ]
  },
  {
   "cell_type": "code",
   "execution_count": null,
   "metadata": {},
   "outputs": [],
   "source": []
  }
 ],
 "metadata": {
  "kernelspec": {
   "display_name": "PythonData",
   "language": "python",
   "name": "pythondata"
  },
  "language_info": {
   "codemirror_mode": {
    "name": "ipython",
    "version": 3
   },
   "file_extension": ".py",
   "mimetype": "text/x-python",
   "name": "python",
   "nbconvert_exporter": "python",
   "pygments_lexer": "ipython3",
   "version": "3.7.9"
  }
 },
 "nbformat": 4,
 "nbformat_minor": 5
}

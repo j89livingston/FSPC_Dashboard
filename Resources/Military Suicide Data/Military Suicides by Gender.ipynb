{
 "cells": [
  {
   "cell_type": "markdown",
   "id": "22f3842d",
   "metadata": {},
   "source": [
    "## Military Suicides by Method"
   ]
  },
  {
   "cell_type": "code",
   "execution_count": 1,
   "id": "d5dec5c5",
   "metadata": {},
   "outputs": [],
   "source": [
    "#Import dependencies\n",
    "import pandas as pd\n",
    "import numpy as np"
   ]
  },
  {
   "cell_type": "code",
   "execution_count": 14,
   "id": "a6054665",
   "metadata": {},
   "outputs": [
    {
     "data": {
      "text/html": [
       "<div>\n",
       "<style scoped>\n",
       "    .dataframe tbody tr th:only-of-type {\n",
       "        vertical-align: middle;\n",
       "    }\n",
       "\n",
       "    .dataframe tbody tr th {\n",
       "        vertical-align: top;\n",
       "    }\n",
       "\n",
       "    .dataframe thead th {\n",
       "        text-align: right;\n",
       "    }\n",
       "</style>\n",
       "<table border=\"1\" class=\"dataframe\">\n",
       "  <thead>\n",
       "    <tr style=\"text-align: right;\">\n",
       "      <th></th>\n",
       "      <th>Veteran Suicides by State of Death and by Sex, 2005�2018</th>\n",
       "      <th>Unnamed: 1</th>\n",
       "      <th>Unnamed: 2</th>\n",
       "      <th>Unnamed: 3</th>\n",
       "      <th>Unnamed: 4</th>\n",
       "      <th>Unnamed: 5</th>\n",
       "      <th>Unnamed: 6</th>\n",
       "      <th>Unnamed: 7</th>\n",
       "      <th>Unnamed: 8</th>\n",
       "    </tr>\n",
       "  </thead>\n",
       "  <tbody>\n",
       "    <tr>\n",
       "      <th>0</th>\n",
       "      <td>NaN</td>\n",
       "      <td>NaN</td>\n",
       "      <td>NaN</td>\n",
       "      <td>NaN</td>\n",
       "      <td>NaN</td>\n",
       "      <td>NaN</td>\n",
       "      <td>NaN</td>\n",
       "      <td>NaN</td>\n",
       "      <td>NaN</td>\n",
       "    </tr>\n",
       "    <tr>\n",
       "      <th>1</th>\n",
       "      <td>Year</td>\n",
       "      <td>Geographic\\r\\nRegion</td>\n",
       "      <td>State of Death</td>\n",
       "      <td>Sex</td>\n",
       "      <td>Veteran\\r\\nSuicides</td>\n",
       "      <td>NaN</td>\n",
       "      <td>NaN</td>\n",
       "      <td>NaN</td>\n",
       "      <td>NaN</td>\n",
       "    </tr>\n",
       "    <tr>\n",
       "      <th>2</th>\n",
       "      <td>2005</td>\n",
       "      <td></td>\n",
       "      <td>Total U.S.</td>\n",
       "      <td>Total</td>\n",
       "      <td>6,056</td>\n",
       "      <td>NaN</td>\n",
       "      <td>NaN</td>\n",
       "      <td>NaN</td>\n",
       "      <td>NaN</td>\n",
       "    </tr>\n",
       "    <tr>\n",
       "      <th>3</th>\n",
       "      <td>2005</td>\n",
       "      <td></td>\n",
       "      <td>Total U.S.</td>\n",
       "      <td>Male</td>\n",
       "      <td>5,870</td>\n",
       "      <td>NaN</td>\n",
       "      <td>NaN</td>\n",
       "      <td>NaN</td>\n",
       "      <td>NaN</td>\n",
       "    </tr>\n",
       "    <tr>\n",
       "      <th>4</th>\n",
       "      <td>2005</td>\n",
       "      <td></td>\n",
       "      <td>Total U.S.</td>\n",
       "      <td>Female</td>\n",
       "      <td>186</td>\n",
       "      <td>NaN</td>\n",
       "      <td>NaN</td>\n",
       "      <td>NaN</td>\n",
       "      <td>NaN</td>\n",
       "    </tr>\n",
       "  </tbody>\n",
       "</table>\n",
       "</div>"
      ],
      "text/plain": [
       "  Veteran Suicides by State of Death and by Sex, 2005�2018  \\\n",
       "0                                                NaN         \n",
       "1                                               Year         \n",
       "2                                               2005         \n",
       "3                                               2005         \n",
       "4                                               2005         \n",
       "\n",
       "             Unnamed: 1      Unnamed: 2 Unnamed: 3             Unnamed: 4  \\\n",
       "0                   NaN             NaN        NaN                    NaN   \n",
       "1  Geographic\\r\\nRegion  State of Death        Sex   Veteran\\r\\nSuicides    \n",
       "2                            Total U.S.      Total                 6,056    \n",
       "3                            Total U.S.       Male                 5,870    \n",
       "4                            Total U.S.     Female                   186    \n",
       "\n",
       "   Unnamed: 5  Unnamed: 6  Unnamed: 7  Unnamed: 8  \n",
       "0         NaN         NaN         NaN         NaN  \n",
       "1         NaN         NaN         NaN         NaN  \n",
       "2         NaN         NaN         NaN         NaN  \n",
       "3         NaN         NaN         NaN         NaN  \n",
       "4         NaN         NaN         NaN         NaN  "
      ]
     },
     "execution_count": 14,
     "metadata": {},
     "output_type": "execute_result"
    }
   ],
   "source": [
    "#Import data\n",
    "data = \"military suicides by gender.csv\"\n",
    "military_df = pd.read_csv(data)\n",
    "\n",
    "#Check data\n",
    "military_df.head()"
   ]
  },
  {
   "cell_type": "code",
   "execution_count": 18,
   "id": "788d8a3e",
   "metadata": {},
   "outputs": [],
   "source": [
    "#Clean up columns\n",
    "#Remove unneccassary columns\n",
    "#military_df.drop([\"Unnamed: 6\", \"Unnamed: 7\", \"Unnamed: 8\"],axis=1)\n",
    "#military_df.head()\n",
    "\n",
    "#Rename columns\n",
    "#new_military_df= military_df.rename(columns={\"year, geographic region, state of death, sex, veteran suicides\"})\n",
    "#new_military_df.head()\n"
   ]
  },
  {
   "cell_type": "code",
   "execution_count": 16,
   "id": "30c892c1",
   "metadata": {},
   "outputs": [
    {
     "data": {
      "text/plain": [
       "Veteran Suicides by State of Death and by Sex, 2005�2018       1\n",
       "Unnamed: 1                                                     1\n",
       "Unnamed: 2                                                     1\n",
       "Unnamed: 3                                                     1\n",
       "Unnamed: 4                                                     1\n",
       "Unnamed: 5                                                  2186\n",
       "Unnamed: 6                                                  2186\n",
       "Unnamed: 7                                                  2186\n",
       "Unnamed: 8                                                  2186\n",
       "dtype: int64"
      ]
     },
     "execution_count": 16,
     "metadata": {},
     "output_type": "execute_result"
    }
   ],
   "source": [
    "#Search for NAN Data\n",
    "military_df.isnull().sum()"
   ]
  },
  {
   "cell_type": "code",
   "execution_count": null,
   "id": "9075159f",
   "metadata": {},
   "outputs": [],
   "source": []
  }
 ],
 "metadata": {
  "kernelspec": {
   "display_name": "PythonData",
   "language": "python",
   "name": "pythondata"
  },
  "language_info": {
   "codemirror_mode": {
    "name": "ipython",
    "version": 3
   },
   "file_extension": ".py",
   "mimetype": "text/x-python",
   "name": "python",
   "nbconvert_exporter": "python",
   "pygments_lexer": "ipython3",
   "version": "3.7.9"
  }
 },
 "nbformat": 4,
 "nbformat_minor": 5
}

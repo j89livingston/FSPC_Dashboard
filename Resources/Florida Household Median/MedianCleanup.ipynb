{
 "cells": [
  {
   "cell_type": "markdown",
   "metadata": {},
   "source": [
    "# Household Median Cleanup"
   ]
  },
  {
   "cell_type": "code",
   "execution_count": 1,
   "metadata": {},
   "outputs": [],
   "source": [
    "#import dependencies\n",
    "import pandas as pd"
   ]
  },
  {
   "cell_type": "code",
   "execution_count": 2,
   "metadata": {},
   "outputs": [],
   "source": [
    "#import data\n",
    "data = pd.read_excel('./Median.xlsx')"
   ]
  },
  {
   "cell_type": "code",
   "execution_count": 3,
   "metadata": {},
   "outputs": [
    {
     "data": {
      "text/html": [
       "<div>\n",
       "<style scoped>\n",
       "    .dataframe tbody tr th:only-of-type {\n",
       "        vertical-align: middle;\n",
       "    }\n",
       "\n",
       "    .dataframe tbody tr th {\n",
       "        vertical-align: top;\n",
       "    }\n",
       "\n",
       "    .dataframe thead th {\n",
       "        text-align: right;\n",
       "    }\n",
       "</style>\n",
       "<table border=\"1\" class=\"dataframe\">\n",
       "  <thead>\n",
       "    <tr style=\"text-align: right;\">\n",
       "      <th></th>\n",
       "      <th>Unnamed: 0</th>\n",
       "      <th>2019</th>\n",
       "      <th>2018</th>\n",
       "      <th>2017</th>\n",
       "      <th>2016</th>\n",
       "      <th>2015</th>\n",
       "      <th>2014</th>\n",
       "      <th>2013</th>\n",
       "      <th>2012</th>\n",
       "      <th>2011</th>\n",
       "      <th>2010</th>\n",
       "    </tr>\n",
       "  </thead>\n",
       "  <tbody>\n",
       "    <tr>\n",
       "      <th>0</th>\n",
       "      <td>County</td>\n",
       "      <td>Dollars ($)</td>\n",
       "      <td>Dollars ($)</td>\n",
       "      <td>Dollars ($)</td>\n",
       "      <td>Dollars ($)</td>\n",
       "      <td>Dollars ($)</td>\n",
       "      <td>Dollars ($)</td>\n",
       "      <td>Dollars ($)</td>\n",
       "      <td>Dollars ($)</td>\n",
       "      <td>Dollars ($)</td>\n",
       "      <td>Dollars ($)</td>\n",
       "    </tr>\n",
       "    <tr>\n",
       "      <th>1</th>\n",
       "      <td>Florida</td>\n",
       "      <td>55660</td>\n",
       "      <td>53267</td>\n",
       "      <td>50883</td>\n",
       "      <td>48900</td>\n",
       "      <td>47507</td>\n",
       "      <td>47212</td>\n",
       "      <td>46956</td>\n",
       "      <td>47309</td>\n",
       "      <td>47827</td>\n",
       "      <td>47661</td>\n",
       "    </tr>\n",
       "    <tr>\n",
       "      <th>2</th>\n",
       "      <td>Alachua</td>\n",
       "      <td>49689</td>\n",
       "      <td>49078</td>\n",
       "      <td>45478</td>\n",
       "      <td>44702</td>\n",
       "      <td>43073</td>\n",
       "      <td>42045</td>\n",
       "      <td>42149</td>\n",
       "      <td>42818</td>\n",
       "      <td>41373</td>\n",
       "      <td>40644</td>\n",
       "    </tr>\n",
       "    <tr>\n",
       "      <th>3</th>\n",
       "      <td>Baker</td>\n",
       "      <td>63275</td>\n",
       "      <td>61769</td>\n",
       "      <td>59506</td>\n",
       "      <td>53327</td>\n",
       "      <td>47121</td>\n",
       "      <td>46865</td>\n",
       "      <td>49236</td>\n",
       "      <td>47149</td>\n",
       "      <td>47041</td>\n",
       "      <td>47276</td>\n",
       "    </tr>\n",
       "    <tr>\n",
       "      <th>4</th>\n",
       "      <td>Bay</td>\n",
       "      <td>54316</td>\n",
       "      <td>51829</td>\n",
       "      <td>50283</td>\n",
       "      <td>48577</td>\n",
       "      <td>47368</td>\n",
       "      <td>47274</td>\n",
       "      <td>47461</td>\n",
       "      <td>47364</td>\n",
       "      <td>48225</td>\n",
       "      <td>47770</td>\n",
       "    </tr>\n",
       "  </tbody>\n",
       "</table>\n",
       "</div>"
      ],
      "text/plain": [
       "  Unnamed: 0         2019         2018         2017         2016         2015  \\\n",
       "0     County  Dollars ($)  Dollars ($)  Dollars ($)  Dollars ($)  Dollars ($)   \n",
       "1    Florida        55660        53267        50883        48900        47507   \n",
       "2    Alachua        49689        49078        45478        44702        43073   \n",
       "3      Baker        63275        61769        59506        53327        47121   \n",
       "4        Bay        54316        51829        50283        48577        47368   \n",
       "\n",
       "          2014         2013         2012         2011         2010  \n",
       "0  Dollars ($)  Dollars ($)  Dollars ($)  Dollars ($)  Dollars ($)  \n",
       "1        47212        46956        47309        47827        47661  \n",
       "2        42045        42149        42818        41373        40644  \n",
       "3        46865        49236        47149        47041        47276  \n",
       "4        47274        47461        47364        48225        47770  "
      ]
     },
     "execution_count": 3,
     "metadata": {},
     "output_type": "execute_result"
    }
   ],
   "source": [
    "#check it\n",
    "data.head()"
   ]
  },
  {
   "cell_type": "code",
   "execution_count": 4,
   "metadata": {},
   "outputs": [],
   "source": [
    "#Rename \n",
    "data.columns = ['County', '2019', '2018', '2017', '2016', '2015', '2014', '2013', '2012', '2011', '2010']"
   ]
  },
  {
   "cell_type": "code",
   "execution_count": 5,
   "metadata": {},
   "outputs": [
    {
     "data": {
      "text/html": [
       "<div>\n",
       "<style scoped>\n",
       "    .dataframe tbody tr th:only-of-type {\n",
       "        vertical-align: middle;\n",
       "    }\n",
       "\n",
       "    .dataframe tbody tr th {\n",
       "        vertical-align: top;\n",
       "    }\n",
       "\n",
       "    .dataframe thead th {\n",
       "        text-align: right;\n",
       "    }\n",
       "</style>\n",
       "<table border=\"1\" class=\"dataframe\">\n",
       "  <thead>\n",
       "    <tr style=\"text-align: right;\">\n",
       "      <th></th>\n",
       "      <th>County</th>\n",
       "      <th>2019</th>\n",
       "      <th>2018</th>\n",
       "      <th>2017</th>\n",
       "      <th>2016</th>\n",
       "      <th>2015</th>\n",
       "      <th>2014</th>\n",
       "      <th>2013</th>\n",
       "      <th>2012</th>\n",
       "      <th>2011</th>\n",
       "      <th>2010</th>\n",
       "    </tr>\n",
       "  </thead>\n",
       "  <tbody>\n",
       "    <tr>\n",
       "      <th>0</th>\n",
       "      <td>Florida</td>\n",
       "      <td>55660</td>\n",
       "      <td>53267</td>\n",
       "      <td>50883</td>\n",
       "      <td>48900</td>\n",
       "      <td>47507</td>\n",
       "      <td>47212</td>\n",
       "      <td>46956</td>\n",
       "      <td>47309</td>\n",
       "      <td>47827</td>\n",
       "      <td>47661</td>\n",
       "    </tr>\n",
       "    <tr>\n",
       "      <th>1</th>\n",
       "      <td>Alachua</td>\n",
       "      <td>49689</td>\n",
       "      <td>49078</td>\n",
       "      <td>45478</td>\n",
       "      <td>44702</td>\n",
       "      <td>43073</td>\n",
       "      <td>42045</td>\n",
       "      <td>42149</td>\n",
       "      <td>42818</td>\n",
       "      <td>41373</td>\n",
       "      <td>40644</td>\n",
       "    </tr>\n",
       "    <tr>\n",
       "      <th>2</th>\n",
       "      <td>Baker</td>\n",
       "      <td>63275</td>\n",
       "      <td>61769</td>\n",
       "      <td>59506</td>\n",
       "      <td>53327</td>\n",
       "      <td>47121</td>\n",
       "      <td>46865</td>\n",
       "      <td>49236</td>\n",
       "      <td>47149</td>\n",
       "      <td>47041</td>\n",
       "      <td>47276</td>\n",
       "    </tr>\n",
       "    <tr>\n",
       "      <th>3</th>\n",
       "      <td>Bay</td>\n",
       "      <td>54316</td>\n",
       "      <td>51829</td>\n",
       "      <td>50283</td>\n",
       "      <td>48577</td>\n",
       "      <td>47368</td>\n",
       "      <td>47274</td>\n",
       "      <td>47461</td>\n",
       "      <td>47364</td>\n",
       "      <td>48225</td>\n",
       "      <td>47770</td>\n",
       "    </tr>\n",
       "    <tr>\n",
       "      <th>4</th>\n",
       "      <td>Bradford</td>\n",
       "      <td>45921</td>\n",
       "      <td>46197</td>\n",
       "      <td>46106</td>\n",
       "      <td>43373</td>\n",
       "      <td>41606</td>\n",
       "      <td>40481</td>\n",
       "      <td>40259</td>\n",
       "      <td>39082</td>\n",
       "      <td>41397</td>\n",
       "      <td>41126</td>\n",
       "    </tr>\n",
       "  </tbody>\n",
       "</table>\n",
       "</div>"
      ],
      "text/plain": [
       "     County   2019   2018   2017   2016   2015   2014   2013   2012   2011  \\\n",
       "0   Florida  55660  53267  50883  48900  47507  47212  46956  47309  47827   \n",
       "1   Alachua  49689  49078  45478  44702  43073  42045  42149  42818  41373   \n",
       "2     Baker  63275  61769  59506  53327  47121  46865  49236  47149  47041   \n",
       "3       Bay  54316  51829  50283  48577  47368  47274  47461  47364  48225   \n",
       "4  Bradford  45921  46197  46106  43373  41606  40481  40259  39082  41397   \n",
       "\n",
       "    2010  \n",
       "0  47661  \n",
       "1  40644  \n",
       "2  47276  \n",
       "3  47770  \n",
       "4  41126  "
      ]
     },
     "execution_count": 5,
     "metadata": {},
     "output_type": "execute_result"
    }
   ],
   "source": [
    "#shift up to remove unneeded row\n",
    "data = data.shift(-1)\n",
    "data.head()"
   ]
  },
  {
   "cell_type": "code",
   "execution_count": 6,
   "metadata": {},
   "outputs": [],
   "source": [
    "data['County'] = data['County'].str.replace('Saint Johns', 'St. Johns')\n",
    "data['County'] = data['County'].str.replace('Saint Lucie', 'St. Lucie')\n",
    "data['County'] = data['County'].str.replace('Saint Lucie', 'St. Lucie')"
   ]
  },
  {
   "cell_type": "code",
   "execution_count": 7,
   "metadata": {},
   "outputs": [
    {
     "name": "stdout",
     "output_type": "stream",
     "text": [
      "['Florida', 'Alachua', 'Baker', 'Bay', 'Bradford', 'Brevard', 'Broward', 'Calhoun', 'Charlotte', 'Citrus', 'Clay', 'Collier', 'Columbia', 'Miami-Dade', 'DeSoto', 'Dixie', 'Duval', 'Escambia', 'Flagler', 'Franklin', 'Gadsden', 'Gilchrist', 'Glades', 'Gulf', 'Hamilton', 'Hardee', 'Hendry', 'Hernando', 'Highlands', 'Hillsborough', 'Holmes', 'Indian River', 'Jackson', 'Jefferson', 'Lafayette', 'Lake', 'Lee', 'Leon', 'Levy', 'Liberty', 'Madison', 'Manatee', 'Marion', 'Martin', 'Monroe', 'Nassau', 'Okaloosa', 'Okeechobee', 'Orange', 'Osceola', 'Palm Beach', 'Pasco', 'Pinellas', 'Polk', 'Putnam', 'St. Johns', 'St. Lucie', 'Santa Rosa', 'Sarasota', 'Seminole', 'Sumter', 'Suwannee', 'Taylor', 'Union', 'Volusia', 'Wakulla', 'Walton', 'Washington', nan]\n"
     ]
    }
   ],
   "source": [
    "print(list(data['County']))"
   ]
  },
  {
   "cell_type": "code",
   "execution_count": 8,
   "metadata": {},
   "outputs": [
    {
     "data": {
      "text/plain": [
       "68"
      ]
     },
     "execution_count": 8,
     "metadata": {},
     "output_type": "execute_result"
    }
   ],
   "source": [
    "data['County'].count()"
   ]
  },
  {
   "cell_type": "code",
   "execution_count": 9,
   "metadata": {},
   "outputs": [],
   "source": [
    "#Unpivot rows\n",
    "pivdata = pd.melt(data, \n",
    "            id_vars='County', \n",
    "            value_vars=list(data.columns[1:]), # list of days of the week\n",
    "            var_name='Years', \n",
    "            value_name='Dollars ($)')"
   ]
  },
  {
   "cell_type": "code",
   "execution_count": 10,
   "metadata": {},
   "outputs": [],
   "source": [
    "pivdata = pivdata.dropna()"
   ]
  },
  {
   "cell_type": "code",
   "execution_count": 11,
   "metadata": {},
   "outputs": [
    {
     "data": {
      "text/plain": [
       "County         680\n",
       "Years          680\n",
       "Dollars ($)    680\n",
       "dtype: int64"
      ]
     },
     "execution_count": 11,
     "metadata": {},
     "output_type": "execute_result"
    }
   ],
   "source": [
    "pivdata.count()"
   ]
  },
  {
   "cell_type": "code",
   "execution_count": 12,
   "metadata": {},
   "outputs": [],
   "source": [
    "pivdata.to_csv(r'./MedianCleanup.csv', encoding='utf-8', index=False)"
   ]
  }
 ],
 "metadata": {
  "kernelspec": {
   "display_name": "Python 3",
   "language": "python",
   "name": "python3"
  },
  "language_info": {
   "codemirror_mode": {
    "name": "ipython",
    "version": 3
   },
   "file_extension": ".py",
   "mimetype": "text/x-python",
   "name": "python",
   "nbconvert_exporter": "python",
   "pygments_lexer": "ipython3",
   "version": "3.8.5"
  }
 },
 "nbformat": 4,
 "nbformat_minor": 4
}
